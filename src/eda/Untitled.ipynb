{
 "cells": [
  {
   "cell_type": "code",
   "execution_count": 1,
   "id": "54d4564c-cbac-4bd6-b766-74c4fd98f99b",
   "metadata": {},
   "outputs": [
    {
     "name": "stderr",
     "output_type": "stream",
     "text": [
      "\u001b[34m\u001b[1mwandb\u001b[0m: Currently logged in as: \u001b[33mcongthanhluu\u001b[0m (\u001b[33mcongthanhliu\u001b[0m). Use \u001b[1m`wandb login --relogin`\u001b[0m to force relogin\n"
     ]
    },
    {
     "data": {
      "text/html": [
       "wandb version 0.17.4 is available!  To upgrade, please run:\n",
       " $ pip install wandb --upgrade"
      ],
      "text/plain": [
       "<IPython.core.display.HTML object>"
      ]
     },
     "metadata": {},
     "output_type": "display_data"
    },
    {
     "data": {
      "text/html": [
       "Tracking run with wandb version 0.16.0"
      ],
      "text/plain": [
       "<IPython.core.display.HTML object>"
      ]
     },
     "metadata": {},
     "output_type": "display_data"
    },
    {
     "data": {
      "text/html": [
       "Run data is saved locally in <code>/home/hungle/build-ml-pipeline-for-short-term-rental-prices/src/eda/wandb/run-20240716_110959-txnate8u</code>"
      ],
      "text/plain": [
       "<IPython.core.display.HTML object>"
      ]
     },
     "metadata": {},
     "output_type": "display_data"
    },
    {
     "data": {
      "text/html": [
       "Syncing run <strong><a href='https://wandb.ai/congthanhliu/nyc_airbnb/runs/txnate8u' target=\"_blank\">fast-snowflake-5</a></strong> to <a href='https://wandb.ai/congthanhliu/nyc_airbnb' target=\"_blank\">Weights & Biases</a> (<a href='https://wandb.me/run' target=\"_blank\">docs</a>)<br/>"
      ],
      "text/plain": [
       "<IPython.core.display.HTML object>"
      ]
     },
     "metadata": {},
     "output_type": "display_data"
    },
    {
     "data": {
      "text/html": [
       " View project at <a href='https://wandb.ai/congthanhliu/nyc_airbnb' target=\"_blank\">https://wandb.ai/congthanhliu/nyc_airbnb</a>"
      ],
      "text/plain": [
       "<IPython.core.display.HTML object>"
      ]
     },
     "metadata": {},
     "output_type": "display_data"
    },
    {
     "data": {
      "text/html": [
       " View run at <a href='https://wandb.ai/congthanhliu/nyc_airbnb/runs/txnate8u' target=\"_blank\">https://wandb.ai/congthanhliu/nyc_airbnb/runs/txnate8u</a>"
      ],
      "text/plain": [
       "<IPython.core.display.HTML object>"
      ]
     },
     "metadata": {},
     "output_type": "display_data"
    }
   ],
   "source": [
    "import wandb\n",
    "import pandas as pd\n",
    "\n",
    "run = wandb.init(project=\"nyc_airbnb\", group=\"eda\", save_code=True)\n",
    "local_path = wandb.use_artifact(\"sample.csv:latest\").file()\n",
    "df = pd.read_csv(local_path)"
   ]
  },
  {
   "cell_type": "code",
   "execution_count": 3,
   "id": "9bbd5131-7f8b-4e93-98c3-06ff74a86406",
   "metadata": {},
   "outputs": [
    {
     "data": {
      "application/vnd.jupyter.widget-view+json": {
       "model_id": "fdc36da4d5dc42b783b5d2dd58dc6a46",
       "version_major": 2,
       "version_minor": 0
      },
      "text/plain": [
       "Summarize dataset:   0%|          | 0/5 [00:00<?, ?it/s]"
      ]
     },
     "metadata": {},
     "output_type": "display_data"
    },
    {
     "name": "stderr",
     "output_type": "stream",
     "text": [
      "/home/hungle/miniconda3/envs/mlflow-e597db4468951481efeaa75d4a13c9d16260f128/lib/python3.10/site-packages/ydata_profiling/model/typeset.py:125: FutureWarning: is_categorical_dtype is deprecated and will be removed in a future version. Use isinstance(dtype, CategoricalDtype) instead\n",
      "  not pdt.is_categorical_dtype(series)\n",
      "/home/hungle/miniconda3/envs/mlflow-e597db4468951481efeaa75d4a13c9d16260f128/lib/python3.10/site-packages/ydata_profiling/model/typeset.py:208: FutureWarning: is_categorical_dtype is deprecated and will be removed in a future version. Use isinstance(dtype, CategoricalDtype) instead\n",
      "  is_valid_dtype = pdt.is_categorical_dtype(series) and not pdt.is_bool_dtype(\n",
      "/home/hungle/miniconda3/envs/mlflow-e597db4468951481efeaa75d4a13c9d16260f128/lib/python3.10/site-packages/ydata_profiling/model/typeset_relations.py:34: FutureWarning: is_categorical_dtype is deprecated and will be removed in a future version. Use isinstance(dtype, CategoricalDtype) instead\n",
      "  if pdt.is_categorical_dtype(series):\n",
      "/home/hungle/miniconda3/envs/mlflow-e597db4468951481efeaa75d4a13c9d16260f128/lib/python3.10/site-packages/ydata_profiling/model/typeset.py:125: FutureWarning: is_categorical_dtype is deprecated and will be removed in a future version. Use isinstance(dtype, CategoricalDtype) instead\n",
      "  not pdt.is_categorical_dtype(series)\n",
      "/home/hungle/miniconda3/envs/mlflow-e597db4468951481efeaa75d4a13c9d16260f128/lib/python3.10/site-packages/ydata_profiling/model/typeset.py:208: FutureWarning: is_categorical_dtype is deprecated and will be removed in a future version. Use isinstance(dtype, CategoricalDtype) instead\n",
      "  is_valid_dtype = pdt.is_categorical_dtype(series) and not pdt.is_bool_dtype(\n",
      "/home/hungle/miniconda3/envs/mlflow-e597db4468951481efeaa75d4a13c9d16260f128/lib/python3.10/site-packages/ydata_profiling/model/typeset_relations.py:34: FutureWarning: is_categorical_dtype is deprecated and will be removed in a future version. Use isinstance(dtype, CategoricalDtype) instead\n",
      "  if pdt.is_categorical_dtype(series):\n",
      "/home/hungle/miniconda3/envs/mlflow-e597db4468951481efeaa75d4a13c9d16260f128/lib/python3.10/site-packages/ydata_profiling/model/typeset.py:125: FutureWarning: is_categorical_dtype is deprecated and will be removed in a future version. Use isinstance(dtype, CategoricalDtype) instead\n",
      "  not pdt.is_categorical_dtype(series)\n",
      "/home/hungle/miniconda3/envs/mlflow-e597db4468951481efeaa75d4a13c9d16260f128/lib/python3.10/site-packages/ydata_profiling/model/typeset_relations.py:34: FutureWarning: is_categorical_dtype is deprecated and will be removed in a future version. Use isinstance(dtype, CategoricalDtype) instead\n",
      "  if pdt.is_categorical_dtype(series):\n",
      "/home/hungle/miniconda3/envs/mlflow-e597db4468951481efeaa75d4a13c9d16260f128/lib/python3.10/site-packages/ydata_profiling/model/typeset_relations.py:34: FutureWarning: is_categorical_dtype is deprecated and will be removed in a future version. Use isinstance(dtype, CategoricalDtype) instead\n",
      "  if pdt.is_categorical_dtype(series):\n",
      "/home/hungle/miniconda3/envs/mlflow-e597db4468951481efeaa75d4a13c9d16260f128/lib/python3.10/site-packages/ydata_profiling/model/typeset.py:125: FutureWarning: is_categorical_dtype is deprecated and will be removed in a future version. Use isinstance(dtype, CategoricalDtype) instead\n",
      "  not pdt.is_categorical_dtype(series)\n",
      "/home/hungle/miniconda3/envs/mlflow-e597db4468951481efeaa75d4a13c9d16260f128/lib/python3.10/site-packages/ydata_profiling/model/typeset.py:208: FutureWarning: is_categorical_dtype is deprecated and will be removed in a future version. Use isinstance(dtype, CategoricalDtype) instead\n",
      "  is_valid_dtype = pdt.is_categorical_dtype(series) and not pdt.is_bool_dtype(\n",
      "/home/hungle/miniconda3/envs/mlflow-e597db4468951481efeaa75d4a13c9d16260f128/lib/python3.10/site-packages/ydata_profiling/model/typeset_relations.py:34: FutureWarning: is_categorical_dtype is deprecated and will be removed in a future version. Use isinstance(dtype, CategoricalDtype) instead\n",
      "  if pdt.is_categorical_dtype(series):\n",
      "/home/hungle/miniconda3/envs/mlflow-e597db4468951481efeaa75d4a13c9d16260f128/lib/python3.10/site-packages/ydata_profiling/model/typeset.py:125: FutureWarning: is_categorical_dtype is deprecated and will be removed in a future version. Use isinstance(dtype, CategoricalDtype) instead\n",
      "  not pdt.is_categorical_dtype(series)\n",
      "/home/hungle/miniconda3/envs/mlflow-e597db4468951481efeaa75d4a13c9d16260f128/lib/python3.10/site-packages/ydata_profiling/model/typeset.py:208: FutureWarning: is_categorical_dtype is deprecated and will be removed in a future version. Use isinstance(dtype, CategoricalDtype) instead\n",
      "  is_valid_dtype = pdt.is_categorical_dtype(series) and not pdt.is_bool_dtype(\n",
      "/home/hungle/miniconda3/envs/mlflow-e597db4468951481efeaa75d4a13c9d16260f128/lib/python3.10/site-packages/ydata_profiling/model/typeset.py:125: FutureWarning: is_categorical_dtype is deprecated and will be removed in a future version. Use isinstance(dtype, CategoricalDtype) instead\n",
      "  not pdt.is_categorical_dtype(series)\n",
      "/home/hungle/miniconda3/envs/mlflow-e597db4468951481efeaa75d4a13c9d16260f128/lib/python3.10/site-packages/ydata_profiling/model/typeset_relations.py:34: FutureWarning: is_categorical_dtype is deprecated and will be removed in a future version. Use isinstance(dtype, CategoricalDtype) instead\n",
      "  if pdt.is_categorical_dtype(series):\n",
      "/home/hungle/miniconda3/envs/mlflow-e597db4468951481efeaa75d4a13c9d16260f128/lib/python3.10/site-packages/ydata_profiling/model/typeset.py:125: FutureWarning: is_categorical_dtype is deprecated and will be removed in a future version. Use isinstance(dtype, CategoricalDtype) instead\n",
      "  not pdt.is_categorical_dtype(series)\n",
      "/home/hungle/miniconda3/envs/mlflow-e597db4468951481efeaa75d4a13c9d16260f128/lib/python3.10/site-packages/ydata_profiling/model/typeset_relations.py:34: FutureWarning: is_categorical_dtype is deprecated and will be removed in a future version. Use isinstance(dtype, CategoricalDtype) instead\n",
      "  if pdt.is_categorical_dtype(series):\n",
      "/home/hungle/miniconda3/envs/mlflow-e597db4468951481efeaa75d4a13c9d16260f128/lib/python3.10/site-packages/ydata_profiling/model/typeset.py:125: FutureWarning: is_categorical_dtype is deprecated and will be removed in a future version. Use isinstance(dtype, CategoricalDtype) instead\n",
      "  not pdt.is_categorical_dtype(series)\n",
      "/home/hungle/miniconda3/envs/mlflow-e597db4468951481efeaa75d4a13c9d16260f128/lib/python3.10/site-packages/ydata_profiling/model/typeset_relations.py:34: FutureWarning: is_categorical_dtype is deprecated and will be removed in a future version. Use isinstance(dtype, CategoricalDtype) instead\n",
      "  if pdt.is_categorical_dtype(series):\n",
      "/home/hungle/miniconda3/envs/mlflow-e597db4468951481efeaa75d4a13c9d16260f128/lib/python3.10/site-packages/ydata_profiling/model/typeset.py:125: FutureWarning: is_categorical_dtype is deprecated and will be removed in a future version. Use isinstance(dtype, CategoricalDtype) instead\n",
      "  not pdt.is_categorical_dtype(series)\n",
      "/home/hungle/miniconda3/envs/mlflow-e597db4468951481efeaa75d4a13c9d16260f128/lib/python3.10/site-packages/ydata_profiling/model/typeset_relations.py:34: FutureWarning: is_categorical_dtype is deprecated and will be removed in a future version. Use isinstance(dtype, CategoricalDtype) instead\n",
      "  if pdt.is_categorical_dtype(series):\n",
      "/home/hungle/miniconda3/envs/mlflow-e597db4468951481efeaa75d4a13c9d16260f128/lib/python3.10/site-packages/ydata_profiling/model/typeset_relations.py:34: FutureWarning: is_categorical_dtype is deprecated and will be removed in a future version. Use isinstance(dtype, CategoricalDtype) instead\n",
      "  if pdt.is_categorical_dtype(series):\n",
      "/home/hungle/miniconda3/envs/mlflow-e597db4468951481efeaa75d4a13c9d16260f128/lib/python3.10/site-packages/ydata_profiling/model/typeset.py:125: FutureWarning: is_categorical_dtype is deprecated and will be removed in a future version. Use isinstance(dtype, CategoricalDtype) instead\n",
      "  not pdt.is_categorical_dtype(series)\n",
      "/home/hungle/miniconda3/envs/mlflow-e597db4468951481efeaa75d4a13c9d16260f128/lib/python3.10/site-packages/ydata_profiling/model/typeset_relations.py:34: FutureWarning: is_categorical_dtype is deprecated and will be removed in a future version. Use isinstance(dtype, CategoricalDtype) instead\n",
      "  if pdt.is_categorical_dtype(series):\n",
      "/home/hungle/miniconda3/envs/mlflow-e597db4468951481efeaa75d4a13c9d16260f128/lib/python3.10/site-packages/ydata_profiling/model/typeset_relations.py:34: FutureWarning: is_categorical_dtype is deprecated and will be removed in a future version. Use isinstance(dtype, CategoricalDtype) instead\n",
      "  if pdt.is_categorical_dtype(series):\n",
      "/home/hungle/miniconda3/envs/mlflow-e597db4468951481efeaa75d4a13c9d16260f128/lib/python3.10/site-packages/ydata_profiling/model/typeset.py:125: FutureWarning: is_categorical_dtype is deprecated and will be removed in a future version. Use isinstance(dtype, CategoricalDtype) instead\n",
      "  not pdt.is_categorical_dtype(series)\n",
      "/home/hungle/miniconda3/envs/mlflow-e597db4468951481efeaa75d4a13c9d16260f128/lib/python3.10/site-packages/ydata_profiling/model/typeset.py:208: FutureWarning: is_categorical_dtype is deprecated and will be removed in a future version. Use isinstance(dtype, CategoricalDtype) instead\n",
      "  is_valid_dtype = pdt.is_categorical_dtype(series) and not pdt.is_bool_dtype(\n",
      "/home/hungle/miniconda3/envs/mlflow-e597db4468951481efeaa75d4a13c9d16260f128/lib/python3.10/site-packages/ydata_profiling/model/typeset.py:125: FutureWarning: is_categorical_dtype is deprecated and will be removed in a future version. Use isinstance(dtype, CategoricalDtype) instead\n",
      "  not pdt.is_categorical_dtype(series)\n",
      "/home/hungle/miniconda3/envs/mlflow-e597db4468951481efeaa75d4a13c9d16260f128/lib/python3.10/site-packages/ydata_profiling/model/typeset.py:208: FutureWarning: is_categorical_dtype is deprecated and will be removed in a future version. Use isinstance(dtype, CategoricalDtype) instead\n",
      "  is_valid_dtype = pdt.is_categorical_dtype(series) and not pdt.is_bool_dtype(\n",
      "/home/hungle/miniconda3/envs/mlflow-e597db4468951481efeaa75d4a13c9d16260f128/lib/python3.10/site-packages/ydata_profiling/model/typeset.py:125: FutureWarning: is_categorical_dtype is deprecated and will be removed in a future version. Use isinstance(dtype, CategoricalDtype) instead\n",
      "  not pdt.is_categorical_dtype(series)\n",
      "/home/hungle/miniconda3/envs/mlflow-e597db4468951481efeaa75d4a13c9d16260f128/lib/python3.10/site-packages/ydata_profiling/model/typeset.py:208: FutureWarning: is_categorical_dtype is deprecated and will be removed in a future version. Use isinstance(dtype, CategoricalDtype) instead\n",
      "  is_valid_dtype = pdt.is_categorical_dtype(series) and not pdt.is_bool_dtype(\n",
      "/home/hungle/miniconda3/envs/mlflow-e597db4468951481efeaa75d4a13c9d16260f128/lib/python3.10/site-packages/ydata_profiling/model/typeset.py:125: FutureWarning: is_categorical_dtype is deprecated and will be removed in a future version. Use isinstance(dtype, CategoricalDtype) instead\n",
      "  not pdt.is_categorical_dtype(series)\n",
      "/home/hungle/miniconda3/envs/mlflow-e597db4468951481efeaa75d4a13c9d16260f128/lib/python3.10/site-packages/ydata_profiling/model/typeset.py:208: FutureWarning: is_categorical_dtype is deprecated and will be removed in a future version. Use isinstance(dtype, CategoricalDtype) instead\n",
      "  is_valid_dtype = pdt.is_categorical_dtype(series) and not pdt.is_bool_dtype(\n",
      "/home/hungle/miniconda3/envs/mlflow-e597db4468951481efeaa75d4a13c9d16260f128/lib/python3.10/site-packages/ydata_profiling/model/typeset.py:125: FutureWarning: is_categorical_dtype is deprecated and will be removed in a future version. Use isinstance(dtype, CategoricalDtype) instead\n",
      "  not pdt.is_categorical_dtype(series)\n",
      "/home/hungle/miniconda3/envs/mlflow-e597db4468951481efeaa75d4a13c9d16260f128/lib/python3.10/site-packages/ydata_profiling/model/typeset.py:208: FutureWarning: is_categorical_dtype is deprecated and will be removed in a future version. Use isinstance(dtype, CategoricalDtype) instead\n",
      "  is_valid_dtype = pdt.is_categorical_dtype(series) and not pdt.is_bool_dtype(\n",
      "/home/hungle/miniconda3/envs/mlflow-e597db4468951481efeaa75d4a13c9d16260f128/lib/python3.10/site-packages/ydata_profiling/model/typeset.py:125: FutureWarning: is_categorical_dtype is deprecated and will be removed in a future version. Use isinstance(dtype, CategoricalDtype) instead\n",
      "  not pdt.is_categorical_dtype(series)\n",
      "/home/hungle/miniconda3/envs/mlflow-e597db4468951481efeaa75d4a13c9d16260f128/lib/python3.10/site-packages/ydata_profiling/model/typeset.py:208: FutureWarning: is_categorical_dtype is deprecated and will be removed in a future version. Use isinstance(dtype, CategoricalDtype) instead\n",
      "  is_valid_dtype = pdt.is_categorical_dtype(series) and not pdt.is_bool_dtype(\n",
      "/home/hungle/miniconda3/envs/mlflow-e597db4468951481efeaa75d4a13c9d16260f128/lib/python3.10/site-packages/ydata_profiling/model/typeset_relations.py:34: FutureWarning: is_categorical_dtype is deprecated and will be removed in a future version. Use isinstance(dtype, CategoricalDtype) instead\n",
      "  if pdt.is_categorical_dtype(series):\n",
      "/home/hungle/miniconda3/envs/mlflow-e597db4468951481efeaa75d4a13c9d16260f128/lib/python3.10/site-packages/ydata_profiling/model/typeset.py:125: FutureWarning: is_categorical_dtype is deprecated and will be removed in a future version. Use isinstance(dtype, CategoricalDtype) instead\n",
      "  not pdt.is_categorical_dtype(series)\n",
      "/home/hungle/miniconda3/envs/mlflow-e597db4468951481efeaa75d4a13c9d16260f128/lib/python3.10/site-packages/ydata_profiling/model/typeset_relations.py:34: FutureWarning: is_categorical_dtype is deprecated and will be removed in a future version. Use isinstance(dtype, CategoricalDtype) instead\n",
      "  if pdt.is_categorical_dtype(series):\n",
      "/home/hungle/miniconda3/envs/mlflow-e597db4468951481efeaa75d4a13c9d16260f128/lib/python3.10/site-packages/ydata_profiling/model/correlations.py:66: UserWarning: There was an attempt to calculate the auto correlation, but this failed.\n",
      "To hide this warning, disable the calculation\n",
      "(using `df.profile_report(correlations={\"auto\": {\"calculate\": False}})`\n",
      "If this is problematic for your use case, please report this as an issue:\n",
      "https://github.com/ydataai/ydata-profiling/issues\n",
      "(include the error message: 'Function <code object pandas_auto_compute at 0x7feea0b17c00, file \"/home/hungle/miniconda3/envs/mlflow-e597db4468951481efeaa75d4a13c9d16260f128/lib/python3.10/site-packages/ydata_profiling/model/pandas/correlations_pandas.py\", line 167>')\n",
      "  warnings.warn(\n"
     ]
    },
    {
     "data": {
      "application/vnd.jupyter.widget-view+json": {
       "model_id": "6a20ed66792645ffb01f6d5f23375d1c",
       "version_major": 2,
       "version_minor": 0
      },
      "text/plain": [
       "Generate report structure:   0%|          | 0/1 [00:00<?, ?it/s]"
      ]
     },
     "metadata": {},
     "output_type": "display_data"
    },
    {
     "data": {
      "application/vnd.jupyter.widget-view+json": {
       "model_id": "",
       "version_major": 2,
       "version_minor": 0
      },
      "text/plain": [
       "Render widgets:   0%|          | 0/1 [00:00<?, ?it/s]"
      ]
     },
     "metadata": {},
     "output_type": "display_data"
    },
    {
     "data": {
      "application/vnd.jupyter.widget-view+json": {
       "model_id": "285110ebdb73402f81e96d2406e55960",
       "version_major": 2,
       "version_minor": 0
      },
      "text/plain": [
       "VBox(children=(Tab(children=(Tab(children=(GridBox(children=(VBox(children=(GridspecLayout(children=(HTML(valu…"
      ]
     },
     "metadata": {},
     "output_type": "display_data"
    }
   ],
   "source": [
    "import ydata_profiling\n",
    "profile = ydata_profiling.ProfileReport(df)\n",
    "profile.to_widgets()"
   ]
  },
  {
   "cell_type": "code",
   "execution_count": 4,
   "id": "7871fd75-e71f-46aa-b464-bc89ff3bb236",
   "metadata": {},
   "outputs": [],
   "source": [
    "min_price = 10\n",
    "max_price = 350\n",
    "idx = df['price'].between(min_price, max_price)\n",
    "df = df[idx].copy()\n",
    "# Convert last_review to datetime\n",
    "df['last_review'] = pd.to_datetime(df['last_review'])"
   ]
  },
  {
   "cell_type": "code",
   "execution_count": 5,
   "id": "3d259b1e-27f7-4755-9899-2ba543dfa36a",
   "metadata": {},
   "outputs": [
    {
     "name": "stdout",
     "output_type": "stream",
     "text": [
      "<class 'pandas.core.frame.DataFrame'>\n",
      "Index: 19001 entries, 0 to 19999\n",
      "Data columns (total 16 columns):\n",
      " #   Column                          Non-Null Count  Dtype         \n",
      "---  ------                          --------------  -----         \n",
      " 0   id                              19001 non-null  int64         \n",
      " 1   name                            18994 non-null  object        \n",
      " 2   host_id                         19001 non-null  int64         \n",
      " 3   host_name                       18993 non-null  object        \n",
      " 4   neighbourhood_group             19001 non-null  object        \n",
      " 5   neighbourhood                   19001 non-null  object        \n",
      " 6   latitude                        19001 non-null  float64       \n",
      " 7   longitude                       19001 non-null  float64       \n",
      " 8   room_type                       19001 non-null  object        \n",
      " 9   price                           19001 non-null  int64         \n",
      " 10  minimum_nights                  19001 non-null  int64         \n",
      " 11  number_of_reviews               19001 non-null  int64         \n",
      " 12  last_review                     15243 non-null  datetime64[ns]\n",
      " 13  reviews_per_month               15243 non-null  float64       \n",
      " 14  calculated_host_listings_count  19001 non-null  int64         \n",
      " 15  availability_365                19001 non-null  int64         \n",
      "dtypes: datetime64[ns](1), float64(3), int64(7), object(5)\n",
      "memory usage: 2.5+ MB\n"
     ]
    }
   ],
   "source": [
    "df.info()"
   ]
  },
  {
   "cell_type": "code",
   "execution_count": null,
   "id": "254fa173-6ae4-43f0-88ce-cafac1e0e5de",
   "metadata": {},
   "outputs": [],
   "source": []
  }
 ],
 "metadata": {
  "kernelspec": {
   "display_name": "Python 3 (ipykernel)",
   "language": "python",
   "name": "python3"
  },
  "language_info": {
   "codemirror_mode": {
    "name": "ipython",
    "version": 3
   },
   "file_extension": ".py",
   "mimetype": "text/x-python",
   "name": "python",
   "nbconvert_exporter": "python",
   "pygments_lexer": "ipython3",
   "version": "3.10.14"
  }
 },
 "nbformat": 4,
 "nbformat_minor": 5
}
